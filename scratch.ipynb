{
 "cells": [
  {
   "cell_type": "code",
   "execution_count": 3,
   "metadata": {},
   "outputs": [
    {
     "name": "stdout",
     "output_type": "stream",
     "text": [
      "Requirement already satisfied: apache-beam in ./venv/lib/python3.9/site-packages (2.55.1)\n",
      "Requirement already satisfied: requests<3.0.0,>=2.24.0 in ./venv/lib/python3.9/site-packages (from apache-beam) (2.31.0)\n",
      "Requirement already satisfied: js2py<1,>=0.74 in ./venv/lib/python3.9/site-packages (from apache-beam) (0.74)\n",
      "Requirement already satisfied: pyarrow<15.0.0,>=3.0.0 in ./venv/lib/python3.9/site-packages (from apache-beam) (14.0.2)\n",
      "Requirement already satisfied: jsonpickle<4.0.0,>=3.0.0 in ./venv/lib/python3.9/site-packages (from apache-beam) (3.0.4)\n",
      "Requirement already satisfied: pytz>=2018.3 in ./venv/lib/python3.9/site-packages (from apache-beam) (2024.1)\n",
      "Requirement already satisfied: pydot<2,>=1.2.0 in ./venv/lib/python3.9/site-packages (from apache-beam) (1.4.2)\n",
      "Requirement already satisfied: fasteners<1.0,>=0.3 in ./venv/lib/python3.9/site-packages (from apache-beam) (0.19)\n",
      "Requirement already satisfied: objsize<0.8.0,>=0.6.1 in ./venv/lib/python3.9/site-packages (from apache-beam) (0.7.0)\n",
      "Requirement already satisfied: python-dateutil<3,>=2.8.0 in ./venv/lib/python3.9/site-packages (from apache-beam) (2.9.0.post0)\n",
      "Requirement already satisfied: numpy<1.27.0,>=1.14.3 in ./venv/lib/python3.9/site-packages (from apache-beam) (1.26.4)\n",
      "Requirement already satisfied: orjson<4,>=3.9.7 in ./venv/lib/python3.9/site-packages (from apache-beam) (3.10.1)\n",
      "Requirement already satisfied: proto-plus<2,>=1.7.1 in ./venv/lib/python3.9/site-packages (from apache-beam) (1.23.0)\n",
      "Requirement already satisfied: typing-extensions>=3.7.0 in ./venv/lib/python3.9/site-packages (from apache-beam) (4.11.0)\n",
      "Requirement already satisfied: regex>=2020.6.8 in ./venv/lib/python3.9/site-packages (from apache-beam) (2024.4.16)\n",
      "Requirement already satisfied: pyarrow-hotfix<1 in ./venv/lib/python3.9/site-packages (from apache-beam) (0.6)\n",
      "Requirement already satisfied: dill<0.3.2,>=0.3.1.1 in ./venv/lib/python3.9/site-packages (from apache-beam) (0.3.1.1)\n",
      "Requirement already satisfied: httplib2<0.23.0,>=0.8 in ./venv/lib/python3.9/site-packages (from apache-beam) (0.22.0)\n",
      "Requirement already satisfied: fastavro<2,>=0.23.6 in ./venv/lib/python3.9/site-packages (from apache-beam) (1.9.4)\n",
      "Requirement already satisfied: protobuf!=4.0.*,!=4.21.*,!=4.22.0,!=4.23.*,!=4.24.*,<4.26.0,>=3.20.3 in ./venv/lib/python3.9/site-packages (from apache-beam) (4.25.3)\n",
      "Requirement already satisfied: pymongo<5.0.0,>=3.8.0 in ./venv/lib/python3.9/site-packages (from apache-beam) (4.7.0)\n",
      "Requirement already satisfied: grpcio!=1.48.0,<2,>=1.33.1 in ./venv/lib/python3.9/site-packages (from apache-beam) (1.62.2)\n",
      "Requirement already satisfied: crcmod<2.0,>=1.7 in ./venv/lib/python3.9/site-packages (from apache-beam) (1.7)\n",
      "Requirement already satisfied: hdfs<3.0.0,>=2.1.0 in ./venv/lib/python3.9/site-packages (from apache-beam) (2.7.3)\n",
      "Requirement already satisfied: cloudpickle~=2.2.1 in ./venv/lib/python3.9/site-packages (from apache-beam) (2.2.1)\n",
      "Requirement already satisfied: packaging>=22.0 in ./venv/lib/python3.9/site-packages (from apache-beam) (24.0)\n",
      "Requirement already satisfied: zstandard<1,>=0.18.0 in ./venv/lib/python3.9/site-packages (from apache-beam) (0.22.0)\n",
      "Requirement already satisfied: jsonschema<5.0.0,>=4.0.0 in ./venv/lib/python3.9/site-packages (from apache-beam) (4.21.1)\n",
      "Requirement already satisfied: docopt in ./venv/lib/python3.9/site-packages (from hdfs<3.0.0,>=2.1.0->apache-beam) (0.6.2)\n",
      "Requirement already satisfied: six>=1.9.0 in ./venv/lib/python3.9/site-packages (from hdfs<3.0.0,>=2.1.0->apache-beam) (1.16.0)\n",
      "Requirement already satisfied: pyparsing!=3.0.0,!=3.0.1,!=3.0.2,!=3.0.3,<4,>=2.4.2 in ./venv/lib/python3.9/site-packages (from httplib2<0.23.0,>=0.8->apache-beam) (3.1.2)\n",
      "Requirement already satisfied: pyjsparser>=2.5.1 in ./venv/lib/python3.9/site-packages (from js2py<1,>=0.74->apache-beam) (2.7.1)\n",
      "Requirement already satisfied: tzlocal>=1.2 in ./venv/lib/python3.9/site-packages (from js2py<1,>=0.74->apache-beam) (5.2)\n",
      "Requirement already satisfied: referencing>=0.28.4 in ./venv/lib/python3.9/site-packages (from jsonschema<5.0.0,>=4.0.0->apache-beam) (0.35.0)\n",
      "Requirement already satisfied: attrs>=22.2.0 in ./venv/lib/python3.9/site-packages (from jsonschema<5.0.0,>=4.0.0->apache-beam) (23.2.0)\n",
      "Requirement already satisfied: rpds-py>=0.7.1 in ./venv/lib/python3.9/site-packages (from jsonschema<5.0.0,>=4.0.0->apache-beam) (0.18.0)\n",
      "Requirement already satisfied: jsonschema-specifications>=2023.03.6 in ./venv/lib/python3.9/site-packages (from jsonschema<5.0.0,>=4.0.0->apache-beam) (2023.12.1)\n",
      "Requirement already satisfied: dnspython<3.0.0,>=1.16.0 in ./venv/lib/python3.9/site-packages (from pymongo<5.0.0,>=3.8.0->apache-beam) (2.6.1)\n",
      "Requirement already satisfied: charset-normalizer<4,>=2 in ./venv/lib/python3.9/site-packages (from requests<3.0.0,>=2.24.0->apache-beam) (3.3.2)\n",
      "Requirement already satisfied: idna<4,>=2.5 in ./venv/lib/python3.9/site-packages (from requests<3.0.0,>=2.24.0->apache-beam) (3.7)\n",
      "Requirement already satisfied: certifi>=2017.4.17 in ./venv/lib/python3.9/site-packages (from requests<3.0.0,>=2.24.0->apache-beam) (2024.2.2)\n",
      "Requirement already satisfied: urllib3<3,>=1.21.1 in ./venv/lib/python3.9/site-packages (from requests<3.0.0,>=2.24.0->apache-beam) (2.2.1)\n",
      "\u001b[33mWARNING: You are using pip version 21.2.4; however, version 24.0 is available.\n",
      "You should consider upgrading via the '/Users/Shehryar/Documents/Virgin Media 02/venv/bin/python3 -m pip install --upgrade pip' command.\u001b[0m\n"
     ]
    }
   ],
   "source": [
    "!pip install apache-beam\n",
    "import apache_beam as beam"
   ]
  },
  {
   "cell_type": "markdown",
   "metadata": {},
   "source": [
    "## Read the input file - Change path to read from Bucket once complete "
   ]
  },
  {
   "cell_type": "code",
   "execution_count": 4,
   "metadata": {},
   "outputs": [
    {
     "data": {
      "application/javascript": "\n        if (typeof window.interactive_beam_jquery == 'undefined') {\n          var jqueryScript = document.createElement('script');\n          jqueryScript.src = 'https://code.jquery.com/jquery-3.4.1.slim.min.js';\n          jqueryScript.type = 'text/javascript';\n          jqueryScript.onload = function() {\n            var datatableScript = document.createElement('script');\n            datatableScript.src = 'https://cdn.datatables.net/1.10.20/js/jquery.dataTables.min.js';\n            datatableScript.type = 'text/javascript';\n            datatableScript.onload = function() {\n              window.interactive_beam_jquery = jQuery.noConflict(true);\n              window.interactive_beam_jquery(document).ready(function($){\n                \n              });\n            }\n            document.head.appendChild(datatableScript);\n          };\n          document.head.appendChild(jqueryScript);\n        } else {\n          window.interactive_beam_jquery(document).ready(function($){\n            \n          });\n        }"
     },
     "metadata": {},
     "output_type": "display_data"
    },
    {
     "name": "stdout",
     "output_type": "stream",
     "text": [
      "timestamp,origin,destination,transaction_amount\n",
      "2009-01-09 02:54:25 UTC,wallet00000e719adfeaa64b5a,wallet00001866cb7e0f09a890,1021101.99\n",
      "2017-01-01 04:22:23 UTC,wallet00000e719adfeaa64b5a,wallet00001e494c12b3083634,19.95\n",
      "2017-03-18 14:09:16 UTC,wallet00001866cb7e0f09a890,wallet00001e494c12b3083634,2102.22\n",
      "2017-03-18 14:10:44 UTC,wallet00001866cb7e0f09a890,wallet00000e719adfeaa64b5a,1.00030\n",
      "2017-08-31 17:00:09 UTC,wallet00001e494c12b3083634,wallet00005f83196ec58e4ffe,13700000023.08\n",
      "2018-02-27 16:04:11 UTC,wallet00005f83196ec58e4ffe,wallet00001866cb7e0f09a890,129.12\n"
     ]
    }
   ],
   "source": [
    "with beam.Pipeline() as pipeline:\n",
    "\n",
    "    data = (\n",
    "        pipeline\n",
    "        | 'Read CSV file' >> beam.io.ReadFromText('/Users/Shehryar/Downloads/transactions.csv')\n",
    "    )\n",
    "\n",
    "    data | 'Print data' >> beam.Map(print)"
   ]
  },
  {
   "cell_type": "markdown",
   "metadata": {},
   "source": [
    "## Find all transactions have a `transaction_amount` greater than `20`"
   ]
  },
  {
   "cell_type": "code",
   "execution_count": 8,
   "metadata": {},
   "outputs": [
    {
     "name": "stdout",
     "output_type": "stream",
     "text": [
      "2009-01-09 02:54:25 UTC,wallet00000e719adfeaa64b5a,wallet00001866cb7e0f09a890,1021101.99\n",
      "2017-03-18 14:09:16 UTC,wallet00001866cb7e0f09a890,wallet00001e494c12b3083634,2102.22\n",
      "2017-08-31 17:00:09 UTC,wallet00001e494c12b3083634,wallet00005f83196ec58e4ffe,13700000023.08\n",
      "2018-02-27 16:04:11 UTC,wallet00005f83196ec58e4ffe,wallet00001866cb7e0f09a890,129.12\n"
     ]
    }
   ],
   "source": [
    "class FilterTransactionsGreaterThan20(beam.DoFn):\n",
    "    def process(self, element):\n",
    "        transaction_amount = float(element.split(',')[3])  # Transaction amount is the 4th column in csv \n",
    "        if transaction_amount > 20:\n",
    "            yield element\n",
    "\n",
    "with beam.Pipeline() as pipeline:\n",
    "    data = (\n",
    "        pipeline\n",
    "        | 'Read CSV file' >> beam.io.ReadFromText('/Users/Shehryar/Downloads/transactions.csv', skip_header_lines=1)\n",
    "        | 'Filter transactions' >> beam.ParDo(FilterTransactionsGreaterThan20())\n",
    "    )\n",
    "\n",
    "    data | 'Print filtered data' >> beam.Map(print)\n"
   ]
  },
  {
   "cell_type": "markdown",
   "metadata": {},
   "source": [
    "## Exclude all transactions made before the year `2010`. Haven't excluded amounts less than 20, is that correct?"
   ]
  },
  {
   "cell_type": "code",
   "execution_count": 11,
   "metadata": {},
   "outputs": [
    {
     "name": "stdout",
     "output_type": "stream",
     "text": [
      "2017-01-01 04:22:23 UTC,wallet00000e719adfeaa64b5a,wallet00001e494c12b3083634,19.95\n",
      "2017-03-18 14:09:16 UTC,wallet00001866cb7e0f09a890,wallet00001e494c12b3083634,2102.22\n",
      "2017-03-18 14:10:44 UTC,wallet00001866cb7e0f09a890,wallet00000e719adfeaa64b5a,1.00030\n",
      "2017-08-31 17:00:09 UTC,wallet00001e494c12b3083634,wallet00005f83196ec58e4ffe,13700000023.08\n",
      "2018-02-27 16:04:11 UTC,wallet00005f83196ec58e4ffe,wallet00001866cb7e0f09a890,129.12\n"
     ]
    }
   ],
   "source": [
    "from datetime import datetime\n",
    "\n",
    "class CheckTimestampYear(beam.DoFn):\n",
    "    def process(self, element):\n",
    "        timestamp_str = element.split(',')[0]  # Timestamp is the 1st column\n",
    "        timestamp = datetime.strptime(timestamp_str, '%Y-%m-%d %H:%M:%S %Z')\n",
    "        if timestamp.year >= 2010:\n",
    "            yield element\n",
    "\n",
    "\n",
    "with beam.Pipeline() as pipeline:\n",
    "    data = (\n",
    "        pipeline\n",
    "        | 'Read CSV file' >> beam.io.ReadFromText('/Users/Shehryar/Downloads/transactions.csv',  skip_header_lines=1)\n",
    "        | 'Filter transactions for year' >> beam.ParDo(CheckTimestampYear())\n",
    "    )\n",
    "\n",
    "    \n",
    "    data | 'Print data' >> beam.Map(print)\n"
   ]
  },
  {
   "cell_type": "markdown",
   "metadata": {},
   "source": [
    "## Sum the total by `date`"
   ]
  },
  {
   "cell_type": "code",
   "execution_count": 12,
   "metadata": {},
   "outputs": [
    {
     "name": "stdout",
     "output_type": "stream",
     "text": [
      "('2017-01-01', 19.95)\n",
      "('2017-03-18', 2103.2203)\n",
      "('2017-08-31', 13700000023.08)\n",
      "('2018-02-27', 129.12)\n"
     ]
    }
   ],
   "source": [
    "class CheckTimestampYear(beam.DoFn):\n",
    "    def process(self, element):\n",
    "        timestamp_str = element.split(',')[0]  \n",
    "        timestamp = datetime.strptime(timestamp_str, '%Y-%m-%d %H:%M:%S %Z')\n",
    "        if timestamp.year >= 2010:\n",
    "            yield element\n",
    "\n",
    "class ExtractDateAmount(beam.DoFn):\n",
    "    def process(self, element):\n",
    "        timestamp_str, _, _, amount_str = element.split(',')\n",
    "        timestamp = datetime.strptime(timestamp_str, '%Y-%m-%d %H:%M:%S %Z')\n",
    "        amount = float(amount_str)\n",
    "        date = timestamp.strftime('%Y-%m-%d')\n",
    "        yield (date, amount)\n",
    "\n",
    "# Define a pipeline\n",
    "with beam.Pipeline() as pipeline:\n",
    "    data = (\n",
    "        pipeline\n",
    "        | 'Read CSV file' >> beam.io.ReadFromText('/Users/Shehryar/Downloads/transactions.csv',  skip_header_lines=1)\n",
    "        | 'Filter transactions for year' >> beam.ParDo(CheckTimestampYear())\n",
    "        | 'Extract date and amount' >> beam.ParDo(ExtractDateAmount())\n",
    "        | 'Sum amounts by date' >> beam.CombinePerKey(sum)  #GROUP BY \n",
    "    )\n",
    "\n",
    "\n",
    "    data | 'Print data' >> beam.Map(print)\n"
   ]
  },
  {
   "cell_type": "markdown",
   "metadata": {},
   "source": [
    "## Save the output into `output/results.jsonl.gz` and make sure all files in the `output/` directory is git ignored\n",
    "Change path to specified location once complete"
   ]
  },
  {
   "cell_type": "code",
   "execution_count": 14,
   "metadata": {},
   "outputs": [
    {
     "name": "stdout",
     "output_type": "stream",
     "text": [
      "output/summed_amounts_v3-00000-of-00001.csv\n"
     ]
    }
   ],
   "source": [
    "class CheckTimestampYear(beam.DoFn):\n",
    "    def process(self, element):\n",
    "        timestamp_str = element.split(',')[0]  \n",
    "        timestamp = datetime.strptime(timestamp_str, '%Y-%m-%d %H:%M:%S %Z')\n",
    "        if timestamp.year >= 2010:\n",
    "            yield element\n",
    "\n",
    "class ExtractDateAmount(beam.DoFn):\n",
    "    def process(self, element):\n",
    "        timestamp_str, _, _, amount_str = element.split(',')\n",
    "        timestamp = datetime.strptime(timestamp_str, '%Y-%m-%d %H:%M:%S %Z')\n",
    "        amount = float(amount_str)\n",
    "        date = timestamp.strftime('%Y-%m-%d')\n",
    "        yield (date, amount)\n",
    "\n",
    "class FormatOutput(beam.DoFn):\n",
    "    def process(self, element):\n",
    "        date, total_amount = element\n",
    "        yield f'{date}, {total_amount}'\n",
    "\n",
    "# Define a pipeline\n",
    "with beam.Pipeline() as pipeline:\n",
    "    data = (\n",
    "        pipeline\n",
    "        | 'Read CSV file' >> beam.io.ReadFromText('/Users/Shehryar/Downloads/transactions.csv',  skip_header_lines=1)\n",
    "        | 'Filter transactions for year' >> beam.ParDo(CheckTimestampYear())\n",
    "        | 'Extract date and amount' >> beam.ParDo(ExtractDateAmount())\n",
    "        | 'Sum amounts by date' >> beam.CombinePerKey(sum)  #GROUP BY \n",
    "        | 'Format output' >> beam.ParDo(FormatOutput())\n",
    "        | 'Write to CSV file' >> beam.io.WriteToText('output/summed_amounts_v3', file_name_suffix='.csv', header='date, total_amount'\n",
    "    )\n",
    "    )\n"
   ]
  }
 ],
 "metadata": {
  "kernelspec": {
   "display_name": "venv",
   "language": "python",
   "name": "python3"
  },
  "language_info": {
   "codemirror_mode": {
    "name": "ipython",
    "version": 3
   },
   "file_extension": ".py",
   "mimetype": "text/x-python",
   "name": "python",
   "nbconvert_exporter": "python",
   "pygments_lexer": "ipython3",
   "version": "3.9.6"
  }
 },
 "nbformat": 4,
 "nbformat_minor": 2
}
