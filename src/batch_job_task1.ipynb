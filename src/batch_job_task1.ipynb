{
 "cells": [
  {
   "cell_type": "markdown",
   "metadata": {},
   "source": [
    "### Input File Reading"
   ]
  },
  {
   "cell_type": "code",
   "execution_count": 2,
   "metadata": {},
   "outputs": [
    {
     "name": "stderr",
     "output_type": "stream",
     "text": [
      "/Users/Shehryar/Documents/Virgin-Media-O2-Data-Engineer-Tech-Test/venv/lib/python3.9/site-packages/urllib3/__init__.py:35: NotOpenSSLWarning: urllib3 v2 only supports OpenSSL 1.1.1+, currently the 'ssl' module is compiled with 'LibreSSL 2.8.3'. See: https://github.com/urllib3/urllib3/issues/3020\n",
      "  warnings.warn(\n",
      "WARNING:google.auth.compute_engine._metadata:Compute Engine Metadata server unavailable on attempt 1 of 3. Reason: timed out\n",
      "WARNING:google.auth.compute_engine._metadata:Compute Engine Metadata server unavailable on attempt 2 of 3. Reason: timed out\n",
      "WARNING:google.auth.compute_engine._metadata:Compute Engine Metadata server unavailable on attempt 3 of 3. Reason: [Errno 64] Host is down\n",
      "WARNING:google.auth._default:Authentication failed using Compute Engine authentication due to unavailable metadata server.\n",
      "WARNING:apache_beam.utils.retry:Retry with exponential backoff: waiting for 1.044641891169479 seconds before retrying _get_credentials_with_retrys because we caught exception: google.auth.exceptions.DefaultCredentialsError: Your default credentials were not found. To set up Application Default Credentials, see https://cloud.google.com/docs/authentication/external/set-up-adc for more information.\n",
      " Traceback for above exception (most recent call last):\n",
      "  File \"/Users/Shehryar/Documents/Virgin-Media-O2-Data-Engineer-Tech-Test/venv/lib/python3.9/site-packages/apache_beam/utils/retry.py\", line 298, in wrapper\n",
      "    return fun(*args, **kwargs)\n",
      "  File \"/Users/Shehryar/Documents/Virgin-Media-O2-Data-Engineer-Tech-Test/venv/lib/python3.9/site-packages/apache_beam/internal/gcp/auth.py\", line 175, in _get_credentials_with_retrys\n",
      "    credentials, _ = google.auth.default(\n",
      "  File \"/Users/Shehryar/Documents/Virgin-Media-O2-Data-Engineer-Tech-Test/venv/lib/python3.9/site-packages/google/auth/_default.py\", line 691, in default\n",
      "    raise exceptions.DefaultCredentialsError(_CLOUD_SDK_MISSING_CREDENTIALS)\n",
      "\n",
      "WARNING:google.auth.compute_engine._metadata:Compute Engine Metadata server unavailable on attempt 1 of 3. Reason: [Errno 64] Host is down\n",
      "WARNING:google.auth.compute_engine._metadata:Compute Engine Metadata server unavailable on attempt 2 of 3. Reason: [Errno 64] Host is down\n",
      "WARNING:google.auth.compute_engine._metadata:Compute Engine Metadata server unavailable on attempt 3 of 3. Reason: [Errno 64] Host is down\n",
      "WARNING:google.auth._default:Authentication failed using Compute Engine authentication due to unavailable metadata server.\n",
      "WARNING:apache_beam.utils.retry:Retry with exponential backoff: waiting for 2.999637322654932 seconds before retrying _get_credentials_with_retrys because we caught exception: google.auth.exceptions.DefaultCredentialsError: Your default credentials were not found. To set up Application Default Credentials, see https://cloud.google.com/docs/authentication/external/set-up-adc for more information.\n",
      " Traceback for above exception (most recent call last):\n",
      "  File \"/Users/Shehryar/Documents/Virgin-Media-O2-Data-Engineer-Tech-Test/venv/lib/python3.9/site-packages/apache_beam/utils/retry.py\", line 298, in wrapper\n",
      "    return fun(*args, **kwargs)\n",
      "  File \"/Users/Shehryar/Documents/Virgin-Media-O2-Data-Engineer-Tech-Test/venv/lib/python3.9/site-packages/apache_beam/internal/gcp/auth.py\", line 175, in _get_credentials_with_retrys\n",
      "    credentials, _ = google.auth.default(\n",
      "  File \"/Users/Shehryar/Documents/Virgin-Media-O2-Data-Engineer-Tech-Test/venv/lib/python3.9/site-packages/google/auth/_default.py\", line 691, in default\n",
      "    raise exceptions.DefaultCredentialsError(_CLOUD_SDK_MISSING_CREDENTIALS)\n",
      "\n",
      "WARNING:google.auth.compute_engine._metadata:Compute Engine Metadata server unavailable on attempt 1 of 3. Reason: [Errno 64] Host is down\n",
      "WARNING:google.auth.compute_engine._metadata:Compute Engine Metadata server unavailable on attempt 2 of 3. Reason: [Errno 64] Host is down\n",
      "WARNING:google.auth.compute_engine._metadata:Compute Engine Metadata server unavailable on attempt 3 of 3. Reason: [Errno 64] Host is down\n",
      "WARNING:google.auth._default:Authentication failed using Compute Engine authentication due to unavailable metadata server.\n",
      "WARNING:apache_beam.utils.retry:Retry with exponential backoff: waiting for 7.097226443808073 seconds before retrying _get_credentials_with_retrys because we caught exception: google.auth.exceptions.DefaultCredentialsError: Your default credentials were not found. To set up Application Default Credentials, see https://cloud.google.com/docs/authentication/external/set-up-adc for more information.\n",
      " Traceback for above exception (most recent call last):\n",
      "  File \"/Users/Shehryar/Documents/Virgin-Media-O2-Data-Engineer-Tech-Test/venv/lib/python3.9/site-packages/apache_beam/utils/retry.py\", line 298, in wrapper\n",
      "    return fun(*args, **kwargs)\n",
      "  File \"/Users/Shehryar/Documents/Virgin-Media-O2-Data-Engineer-Tech-Test/venv/lib/python3.9/site-packages/apache_beam/internal/gcp/auth.py\", line 175, in _get_credentials_with_retrys\n",
      "    credentials, _ = google.auth.default(\n",
      "  File \"/Users/Shehryar/Documents/Virgin-Media-O2-Data-Engineer-Tech-Test/venv/lib/python3.9/site-packages/google/auth/_default.py\", line 691, in default\n",
      "    raise exceptions.DefaultCredentialsError(_CLOUD_SDK_MISSING_CREDENTIALS)\n",
      "\n",
      "WARNING:google.auth.compute_engine._metadata:Compute Engine Metadata server unavailable on attempt 1 of 3. Reason: [Errno 64] Host is down\n",
      "WARNING:google.auth.compute_engine._metadata:Compute Engine Metadata server unavailable on attempt 2 of 3. Reason: [Errno 64] Host is down\n",
      "WARNING:google.auth.compute_engine._metadata:Compute Engine Metadata server unavailable on attempt 3 of 3. Reason: [Errno 64] Host is down\n",
      "WARNING:google.auth._default:Authentication failed using Compute Engine authentication due to unavailable metadata server.\n",
      "WARNING:apache_beam.utils.retry:Retry with exponential backoff: waiting for 10.300091314255592 seconds before retrying _get_credentials_with_retrys because we caught exception: google.auth.exceptions.DefaultCredentialsError: Your default credentials were not found. To set up Application Default Credentials, see https://cloud.google.com/docs/authentication/external/set-up-adc for more information.\n",
      " Traceback for above exception (most recent call last):\n",
      "  File \"/Users/Shehryar/Documents/Virgin-Media-O2-Data-Engineer-Tech-Test/venv/lib/python3.9/site-packages/apache_beam/utils/retry.py\", line 298, in wrapper\n",
      "    return fun(*args, **kwargs)\n",
      "  File \"/Users/Shehryar/Documents/Virgin-Media-O2-Data-Engineer-Tech-Test/venv/lib/python3.9/site-packages/apache_beam/internal/gcp/auth.py\", line 175, in _get_credentials_with_retrys\n",
      "    credentials, _ = google.auth.default(\n",
      "  File \"/Users/Shehryar/Documents/Virgin-Media-O2-Data-Engineer-Tech-Test/venv/lib/python3.9/site-packages/google/auth/_default.py\", line 691, in default\n",
      "    raise exceptions.DefaultCredentialsError(_CLOUD_SDK_MISSING_CREDENTIALS)\n",
      "\n",
      "WARNING:google.auth.compute_engine._metadata:Compute Engine Metadata server unavailable on attempt 1 of 3. Reason: timed out\n",
      "WARNING:google.auth.compute_engine._metadata:Compute Engine Metadata server unavailable on attempt 2 of 3. Reason: timed out\n",
      "WARNING:google.auth.compute_engine._metadata:Compute Engine Metadata server unavailable on attempt 3 of 3. Reason: [Errno 64] Host is down\n",
      "WARNING:google.auth._default:Authentication failed using Compute Engine authentication due to unavailable metadata server.\n",
      "WARNING:apache_beam.internal.gcp.auth:Unable to find default credentials to use: Your default credentials were not found. To set up Application Default Credentials, see https://cloud.google.com/docs/authentication/external/set-up-adc for more information.\n",
      "Connecting anonymously. This is expected if no credentials are needed to access GCP resources.\n",
      "WARNING:apache_beam.runners.interactive.interactive_environment:Dependencies required for Interactive Beam PCollection visualization are not available, please use: `pip install apache-beam[interactive]` to install necessary dependencies to enable all data visualization features.\n"
     ]
    },
    {
     "data": {
      "application/javascript": "\n        if (typeof window.interactive_beam_jquery == 'undefined') {\n          var jqueryScript = document.createElement('script');\n          jqueryScript.src = 'https://code.jquery.com/jquery-3.4.1.slim.min.js';\n          jqueryScript.type = 'text/javascript';\n          jqueryScript.onload = function() {\n            var datatableScript = document.createElement('script');\n            datatableScript.src = 'https://cdn.datatables.net/1.10.20/js/jquery.dataTables.min.js';\n            datatableScript.type = 'text/javascript';\n            datatableScript.onload = function() {\n              window.interactive_beam_jquery = jQuery.noConflict(true);\n              window.interactive_beam_jquery(document).ready(function($){\n                \n              });\n            }\n            document.head.appendChild(datatableScript);\n          };\n          document.head.appendChild(jqueryScript);\n        } else {\n          window.interactive_beam_jquery(document).ready(function($){\n            \n          });\n        }"
     },
     "metadata": {},
     "output_type": "display_data"
    },
    {
     "name": "stdout",
     "output_type": "stream",
     "text": [
      "timestamp,origin,destination,transaction_amount\n",
      "2009-01-09 02:54:25 UTC,wallet00000e719adfeaa64b5a,wallet00001866cb7e0f09a890,1021101.99\n",
      "2017-01-01 04:22:23 UTC,wallet00000e719adfeaa64b5a,wallet00001e494c12b3083634,19.95\n",
      "2017-03-18 14:09:16 UTC,wallet00001866cb7e0f09a890,wallet00001e494c12b3083634,2102.22\n",
      "2017-03-18 14:10:44 UTC,wallet00001866cb7e0f09a890,wallet00000e719adfeaa64b5a,1.00030\n",
      "2017-08-31 17:00:09 UTC,wallet00001e494c12b3083634,wallet00005f83196ec58e4ffe,13700000023.08\n",
      "2018-02-27 16:04:11 UTC,wallet00005f83196ec58e4ffe,wallet00001866cb7e0f09a890,129.12\n"
     ]
    }
   ],
   "source": [
    "import apache_beam as beam \n",
    "\n",
    "with beam.Pipeline() as pipeline:\n",
    "\n",
    "    data = (\n",
    "        pipeline\n",
    "        | 'Read CSV file' >> beam.io.ReadFromText('gs://cloud-samples-data/bigquery/sample-transactions/transactions.csv')\n",
    "    )\n",
    "\n",
    "    data | 'Print data' >> beam.Map(print)"
   ]
  },
  {
   "cell_type": "markdown",
   "metadata": {},
   "source": [
    "### Filter Transactions with Amount Greater than 20"
   ]
  },
  {
   "cell_type": "code",
   "execution_count": 3,
   "metadata": {},
   "outputs": [
    {
     "name": "stdout",
     "output_type": "stream",
     "text": [
      "2009-01-09 02:54:25 UTC,wallet00000e719adfeaa64b5a,wallet00001866cb7e0f09a890,1021101.99\n",
      "2017-03-18 14:09:16 UTC,wallet00001866cb7e0f09a890,wallet00001e494c12b3083634,2102.22\n",
      "2017-08-31 17:00:09 UTC,wallet00001e494c12b3083634,wallet00005f83196ec58e4ffe,13700000023.08\n",
      "2018-02-27 16:04:11 UTC,wallet00005f83196ec58e4ffe,wallet00001866cb7e0f09a890,129.12\n"
     ]
    }
   ],
   "source": [
    "import apache_beam as beam \n",
    "\n",
    "class FilterTransactionsGreaterThan20(beam.DoFn):\n",
    "    def process(self, element):\n",
    "        transaction_amount = float(element.split(',')[3])  # Transaction amount is the 4th column in csv \n",
    "        if transaction_amount > 20:\n",
    "            yield element\n",
    "\n",
    "with beam.Pipeline() as pipeline:\n",
    "    data = (\n",
    "        pipeline\n",
    "        | 'Read CSV file' >> beam.io.ReadFromText('gs://cloud-samples-data/bigquery/sample-transactions/transactions.csv', skip_header_lines=1)\n",
    "        | 'Filter transactions' >> beam.ParDo(FilterTransactionsGreaterThan20())\n",
    "    )\n",
    "\n",
    "    data | 'Print filtered data' >> beam.Map(print)\n"
   ]
  },
  {
   "cell_type": "markdown",
   "metadata": {},
   "source": [
    "### Exclude Transactions before 2010\n",
    "#### I opted not to exclude amounts less than 20 since the instructions were vague, and including them provided no data for aggregation.\n",
    "\n"
   ]
  },
  {
   "cell_type": "code",
   "execution_count": 4,
   "metadata": {},
   "outputs": [
    {
     "name": "stdout",
     "output_type": "stream",
     "text": [
      "2017-01-01 04:22:23 UTC,wallet00000e719adfeaa64b5a,wallet00001e494c12b3083634,19.95\n",
      "2017-03-18 14:09:16 UTC,wallet00001866cb7e0f09a890,wallet00001e494c12b3083634,2102.22\n",
      "2017-03-18 14:10:44 UTC,wallet00001866cb7e0f09a890,wallet00000e719adfeaa64b5a,1.00030\n",
      "2017-08-31 17:00:09 UTC,wallet00001e494c12b3083634,wallet00005f83196ec58e4ffe,13700000023.08\n",
      "2018-02-27 16:04:11 UTC,wallet00005f83196ec58e4ffe,wallet00001866cb7e0f09a890,129.12\n"
     ]
    }
   ],
   "source": [
    "import apache_beam as beam \n",
    "from datetime import datetime\n",
    "\n",
    "class CheckTimestampYear(beam.DoFn):\n",
    "    def process(self, element):\n",
    "        timestamp_str = element.split(',')[0]  # Timestamp is the 1st column\n",
    "        timestamp = datetime.strptime(timestamp_str, '%Y-%m-%d %H:%M:%S %Z')\n",
    "        if timestamp.year >= 2010:\n",
    "            yield element\n",
    "\n",
    "\n",
    "with beam.Pipeline() as pipeline:\n",
    "    data = (\n",
    "        pipeline\n",
    "        | 'Read CSV file' >> beam.io.ReadFromText('gs://cloud-samples-data/bigquery/sample-transactions/transactions.csv',  skip_header_lines=1)\n",
    "        | 'Filter transactions for year' >> beam.ParDo(CheckTimestampYear())\n",
    "    )\n",
    "\n",
    "    \n",
    "    data | 'Print data' >> beam.Map(print)\n"
   ]
  },
  {
   "cell_type": "markdown",
   "metadata": {},
   "source": [
    "### Aggregate Total by Date\n"
   ]
  },
  {
   "cell_type": "code",
   "execution_count": 5,
   "metadata": {},
   "outputs": [
    {
     "name": "stdout",
     "output_type": "stream",
     "text": [
      "('2017-01-01', 19.95)\n",
      "('2017-03-18', 2103.2203)\n",
      "('2017-08-31', 13700000023.08)\n",
      "('2018-02-27', 129.12)\n"
     ]
    }
   ],
   "source": [
    "import apache_beam as beam \n",
    "from datetime import datetime\n",
    "\n",
    "class CheckTimestampYear(beam.DoFn):\n",
    "    def process(self, element):\n",
    "        timestamp_str = element.split(',')[0]  \n",
    "        timestamp = datetime.strptime(timestamp_str, '%Y-%m-%d %H:%M:%S %Z')\n",
    "        if timestamp.year >= 2010:\n",
    "            yield element\n",
    "\n",
    "class ExtractDateAmount(beam.DoFn):\n",
    "    def process(self, element):\n",
    "        timestamp_str, _, _, amount_str = element.split(',')\n",
    "        timestamp = datetime.strptime(timestamp_str, '%Y-%m-%d %H:%M:%S %Z')\n",
    "        amount = float(amount_str)\n",
    "        date = timestamp.strftime('%Y-%m-%d')\n",
    "        yield (date, amount)\n",
    "\n",
    "with beam.Pipeline() as pipeline:\n",
    "    data = (\n",
    "        pipeline\n",
    "        | 'Read CSV file' >> beam.io.ReadFromText('gs://cloud-samples-data/bigquery/sample-transactions/transactions.csv',  skip_header_lines=1)\n",
    "        | 'Filter transactions for year' >> beam.ParDo(CheckTimestampYear())\n",
    "        | 'Extract date and amount' >> beam.ParDo(ExtractDateAmount())\n",
    "        | 'Sum amounts by date' >> beam.CombinePerKey(sum)  #Group By  \n",
    "    )\n",
    "\n",
    "\n",
    "    data | 'Print data' >> beam.Map(print)\n"
   ]
  },
  {
   "cell_type": "markdown",
   "metadata": {},
   "source": [
    "### Save Output to 'output' Folder\n"
   ]
  },
  {
   "cell_type": "code",
   "execution_count": 2,
   "metadata": {},
   "outputs": [
    {
     "name": "stderr",
     "output_type": "stream",
     "text": [
      "/Users/Shehryar/Documents/Virgin-Media-O2-Data-Engineer-Tech-Test/venv/lib/python3.9/site-packages/urllib3/__init__.py:35: NotOpenSSLWarning: urllib3 v2 only supports OpenSSL 1.1.1+, currently the 'ssl' module is compiled with 'LibreSSL 2.8.3'. See: https://github.com/urllib3/urllib3/issues/3020\n",
      "  warnings.warn(\n",
      "WARNING:apache_beam.runners.interactive.interactive_environment:Dependencies required for Interactive Beam PCollection visualization are not available, please use: `pip install apache-beam[interactive]` to install necessary dependencies to enable all data visualization features.\n"
     ]
    },
    {
     "data": {
      "application/javascript": "\n        if (typeof window.interactive_beam_jquery == 'undefined') {\n          var jqueryScript = document.createElement('script');\n          jqueryScript.src = 'https://code.jquery.com/jquery-3.4.1.slim.min.js';\n          jqueryScript.type = 'text/javascript';\n          jqueryScript.onload = function() {\n            var datatableScript = document.createElement('script');\n            datatableScript.src = 'https://cdn.datatables.net/1.10.20/js/jquery.dataTables.min.js';\n            datatableScript.type = 'text/javascript';\n            datatableScript.onload = function() {\n              window.interactive_beam_jquery = jQuery.noConflict(true);\n              window.interactive_beam_jquery(document).ready(function($){\n                \n              });\n            }\n            document.head.appendChild(datatableScript);\n          };\n          document.head.appendChild(jqueryScript);\n        } else {\n          window.interactive_beam_jquery(document).ready(function($){\n            \n          });\n        }"
     },
     "metadata": {},
     "output_type": "display_data"
    }
   ],
   "source": [
    "import apache_beam as beam \n",
    "from datetime import datetime\n",
    "\n",
    "\n",
    "class CheckTimestampYear(beam.DoFn):\n",
    "    def process(self, element):\n",
    "        timestamp_str = element.split(',')[0]  \n",
    "        timestamp = datetime.strptime(timestamp_str, '%Y-%m-%d %H:%M:%S %Z')\n",
    "        if timestamp.year >= 2010:\n",
    "            yield element\n",
    "\n",
    "class ExtractDateAmount(beam.DoFn):\n",
    "    def process(self, element):\n",
    "        timestamp_str, _, _, amount_str = element.split(',')\n",
    "        timestamp = datetime.strptime(timestamp_str, '%Y-%m-%d %H:%M:%S %Z')\n",
    "        amount = float(amount_str)\n",
    "        date = timestamp.strftime('%Y-%m-%d')\n",
    "        yield (date, amount)\n",
    "\n",
    "class FormatOutput(beam.DoFn):\n",
    "    def process(self, element):\n",
    "        date, total_amount = element\n",
    "        yield f'{date}, {total_amount}'\n",
    "\n",
    "with beam.Pipeline() as pipeline:\n",
    "    data = (\n",
    "        pipeline\n",
    "        | 'Read CSV file' >> beam.io.ReadFromText('/Users/Shehryar/Downloads/transactions.csv',  skip_header_lines=1)\n",
    "        | 'Filter transactions for year' >> beam.ParDo(CheckTimestampYear())\n",
    "        | 'Extract date and amount' >> beam.ParDo(ExtractDateAmount())\n",
    "        | 'Sum amounts by date' >> beam.CombinePerKey(sum)  #GROUP BY \n",
    "        | 'Format output' >> beam.ParDo(FormatOutput())\n",
    "        | 'Write to JSONL file' >> beam.io.WriteToText('output/results2', file_name_suffix='.jsonl.gz', compression_type='gzip', header='date, total_amount')\n",
    "    )\n"
   ]
  }
 ],
 "metadata": {
  "kernelspec": {
   "display_name": "venv",
   "language": "python",
   "name": "python3"
  },
  "language_info": {
   "codemirror_mode": {
    "name": "ipython",
    "version": 3
   },
   "file_extension": ".py",
   "mimetype": "text/x-python",
   "name": "python",
   "nbconvert_exporter": "python",
   "pygments_lexer": "ipython3",
   "version": "3.9.6"
  }
 },
 "nbformat": 4,
 "nbformat_minor": 2
}
